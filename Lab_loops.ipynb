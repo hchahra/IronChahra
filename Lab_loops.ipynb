{
  "nbformat": 4,
  "nbformat_minor": 0,
  "metadata": {
    "colab": {
      "name": "Lab_loops.ipynb",
      "provenance": []
    },
    "kernelspec": {
      "name": "python3",
      "display_name": "Python 3"
    },
    "language_info": {
      "name": "python"
    }
  },
  "cells": [
    {
      "cell_type": "code",
      "execution_count": 8,
      "metadata": {
        "colab": {
          "base_uri": "https://localhost:8080/"
        },
        "id": "y9nPjJOd0m0r",
        "outputId": "f29c89b9-2696-43b8-acb4-6c3af14498db"
      },
      "outputs": [
        {
          "output_type": "stream",
          "name": "stdout",
          "text": [
            "1\n",
            "2\n",
            "3\n",
            "4\n",
            "5\n",
            "6\n",
            "7\n",
            "8\n",
            "9\n",
            "10\n"
          ]
        }
      ],
      "source": [
        "i=0\n",
        "while i<10 :\n",
        "  i+=1\n",
        "  print(i)\n",
        "    \n"
      ]
    },
    {
      "cell_type": "code",
      "source": [
        "numbers = [12, 75, 150, 180, 145, 525, 50]\n",
        "for i in numbers:\n",
        "  if i>500:\n",
        "    break\n",
        "  if i>150:\n",
        "    continue\n",
        "  if i%5==0:\n",
        "    print(i)\n"
      ],
      "metadata": {
        "colab": {
          "base_uri": "https://localhost:8080/"
        },
        "id": "tbkTjqse1DV1",
        "outputId": "d48ae190-a4fa-4dd4-9b47-45eff00c63a3"
      },
      "execution_count": 28,
      "outputs": [
        {
          "output_type": "stream",
          "name": "stdout",
          "text": [
            "75\n",
            "150\n",
            "145\n"
          ]
        }
      ]
    },
    {
      "cell_type": "code",
      "source": [
        "import re\n",
        "p=input (\"Please, input your password\")\n",
        "x=True\n",
        "while x:\n",
        "  if len(p)<6 or len(p>12):\n",
        "    break\n",
        "  elif not re.search(\"[a,b]\",p):\n",
        "    break\n",
        "  elif not re.search(\"[A,Z]\",p):\n",
        "    break\n",
        "  elif not re.search(\"[0,9]\",p):\n",
        "    break\n",
        "  elif not re.search(\"[$#@]\",p):\n",
        "    break\n",
        "  elif not re.search(\"[\\s,p]\",p):\n",
        "    break\n",
        "  else:\n",
        "    print(\"valid password\")\n",
        "if x:\n",
        "  print(\"Not valid password\")"
      ],
      "metadata": {
        "colab": {
          "base_uri": "https://localhost:8080/"
        },
        "id": "3ojWqz1v3fwG",
        "outputId": "6fa87afe-8441-4792-a21c-3a88c101b01c"
      },
      "execution_count": 32,
      "outputs": [
        {
          "output_type": "stream",
          "name": "stdout",
          "text": [
            "Please, input your passwordijop\n",
            "Not valid password\n"
          ]
        }
      ]
    },
    {
      "cell_type": "code",
      "source": [
        "list=[5454, 25, 547,6,2525,789]\n",
        "for i in list:\n",
        "  if i==6:\n",
        "    break\n",
        "  print(i)"
      ],
      "metadata": {
        "colab": {
          "base_uri": "https://localhost:8080/"
        },
        "id": "8qHj2_vAIu0b",
        "outputId": "0b286fd7-60ec-469b-b8de-096abf205fb9"
      },
      "execution_count": 36,
      "outputs": [
        {
          "output_type": "stream",
          "name": "stdout",
          "text": [
            "5454\n",
            "25\n",
            "547\n"
          ]
        }
      ]
    },
    {
      "cell_type": "code",
      "source": [
        "\n"
      ],
      "metadata": {
        "id": "nDGPgL3GPce2"
      },
      "execution_count": null,
      "outputs": []
    }
  ]
}