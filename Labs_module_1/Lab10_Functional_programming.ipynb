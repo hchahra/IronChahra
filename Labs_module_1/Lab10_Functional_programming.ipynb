{
 "cells": [
  {
   "cell_type": "code",
   "execution_count": 10,
   "id": "97cafa07",
   "metadata": {},
   "outputs": [],
   "source": [
    "# Counting the sheeps.\n",
    "sheeps =[True,  True,  True,  False,\n",
    "  True,  True,  True,  True ,\n",
    "  True,  False, True,  False,\n",
    "  True,  False, False, True ,\n",
    "  True,  True,  True,  True ,\n",
    "  False, False, True,  True]"
   ]
  },
  {
   "cell_type": "code",
   "execution_count": 12,
   "id": "ebb4946d",
   "metadata": {},
   "outputs": [
    {
     "data": {
      "text/plain": [
       "17"
      ]
     },
     "execution_count": 12,
     "metadata": {},
     "output_type": "execute_result"
    }
   ],
   "source": [
    "def sheeps_count(sheeps):\n",
    "    return sheeps.count(True)\n",
    "sheeps_count(sheeps)\n"
   ]
  },
  {
   "cell_type": "code",
   "execution_count": 16,
   "id": "4d288e55",
   "metadata": {},
   "outputs": [],
   "source": [
    "#Removing elements\n",
    "list=[\"Keep\", \"Remove\", \"Keep\", \"Remove\", \"Keep\"]"
   ]
  },
  {
   "cell_type": "code",
   "execution_count": 17,
   "id": "0b4d98e5",
   "metadata": {},
   "outputs": [
    {
     "data": {
      "text/plain": [
       "['Keep', 'Keep', 'Keep']"
      ]
     },
     "execution_count": 17,
     "metadata": {},
     "output_type": "execute_result"
    }
   ],
   "source": [
    "\n",
    "\n",
    "def remove(ist):\n",
    "    return list[::2]\n",
    "        \n",
    "remove(list)"
   ]
  },
  {
   "cell_type": "code",
   "execution_count": 18,
   "id": "90257a69",
   "metadata": {},
   "outputs": [
    {
     "data": {
      "text/plain": [
       "[8, 7, 6, 5, 4, 3, 2, 1]"
      ]
     },
     "execution_count": 18,
     "metadata": {},
     "output_type": "execute_result"
    }
   ],
   "source": [
    "#Convert number to reversed array of digits\n",
    "\n",
    "n = 12345678\n",
    "\n",
    "def  convert (n):\n",
    "       return [int(i) for i in str(n)][::-1]\n",
    "\n",
    "convert(12345678)"
   ]
  },
  {
   "cell_type": "code",
   "execution_count": 22,
   "id": "15ce3247",
   "metadata": {},
   "outputs": [
    {
     "data": {
      "text/plain": [
       "811181"
      ]
     },
     "execution_count": 22,
     "metadata": {},
     "output_type": "execute_result"
    }
   ],
   "source": [
    "def square(numbers):\n",
    "    l=[]\n",
    "    \n",
    "    for i in str(numbers):\n",
    "            l.append(str(int(i)**2))\n",
    "    return int(\"\".join(l))\n",
    "square( 9119)"
   ]
  },
  {
   "cell_type": "code",
   "execution_count": 24,
   "id": "7f789f36",
   "metadata": {},
   "outputs": [
    {
     "data": {
      "text/plain": [
       "[(1, 3), (3, 2)]"
      ]
     },
     "execution_count": 24,
     "metadata": {},
     "output_type": "execute_result"
    }
   ],
   "source": [
    "#Counting total Occurence \n",
    "integers_list =  [1, 1, 2 ,3 ,1 ,2 ,3 ,4]\n",
    "digits_list = [1, 3]\n",
    "\n",
    "def count_spec_digits(integers_list, digits_list):\n",
    "    dict = {}\n",
    "    for d in digits_list:\n",
    "        dict[d]=integers_list.count(d)\n",
    "    return [(key, value) for key, value in dict.items()]\n",
    "\n",
    "count_spec_digits(integers_list, digits_list)"
   ]
  },
  {
   "cell_type": "code",
   "execution_count": null,
   "id": "52758b24",
   "metadata": {},
   "outputs": [],
   "source": []
  }
 ],
 "metadata": {
  "kernelspec": {
   "display_name": "Python 3 (ipykernel)",
   "language": "python",
   "name": "python3"
  },
  "language_info": {
   "codemirror_mode": {
    "name": "ipython",
    "version": 3
   },
   "file_extension": ".py",
   "mimetype": "text/x-python",
   "name": "python",
   "nbconvert_exporter": "python",
   "pygments_lexer": "ipython3",
   "version": "3.9.12"
  }
 },
 "nbformat": 4,
 "nbformat_minor": 5
}
